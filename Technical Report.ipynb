{
 "cells": [
  {
   "cell_type": "markdown",
   "id": "15e26343",
   "metadata": {},
   "source": [
    "In this notebook, I will be discussing how I created the project, explaining certain code, and the thought process on it"
   ]
  },
  {
   "cell_type": "markdown",
   "id": "81be1e09",
   "metadata": {},
   "source": [
    "## Planning"
   ]
  },
  {
   "cell_type": "markdown",
   "id": "8ce48507",
   "metadata": {},
   "source": [
    "My plan for the project is to utilize cheapshark API to extract different stores and game prices that I have in my library. This project is my first time utilizing API Systems and understading how to extract data from a JSON."
   ]
  },
  {
   "cell_type": "markdown",
   "id": "4b90c3d1",
   "metadata": {},
   "source": [
    "## Execution"
   ]
  },
  {
   "cell_type": "markdown",
   "id": "5d98f242",
   "metadata": {},
   "source": [
    "In order to understand the API, I read through the documentation and found you can extract a games data if you can provide either the name or the Game ID CheapShark. I decided to utilize CheapShark ID to find my games but I didn't know the game IDs so I needed to look for there game IDS. Now, as a programmer, we should make things simplier but the mathamatics side said \"we're gonna make this tough\".  I found that you can search up their games ids by using their API so I created a function where I use a part of the games name and extract the title, id's ,and steamID's of the game.  "
   ]
  },
  {
   "cell_type": "code",
   "execution_count": 13,
   "id": "2287d74a",
   "metadata": {},
   "outputs": [],
   "source": [
    "#Import the necessary packages for the project\n",
    "import requests\n",
    "import pandas as pd\n",
    "import datetime\n",
    "import time\n",
    "pd.options.mode.chained_assignment = None"
   ]
  },
  {
   "cell_type": "code",
   "execution_count": 2,
   "id": "e1a20075",
   "metadata": {},
   "outputs": [],
   "source": [
    "def game_search(gametitle):\n",
    "    game=[]\n",
    "    games='https://www.cheapshark.com/api/1.0/games?title='+gametitle\n",
    "    \n",
    "    #Request the url\n",
    "    r= requests.get(games)\n",
    "\n",
    "    #Reads the json file\n",
    "    json_game=r.json()\n",
    "    \n",
    "    # Iterates the len of json_data and extract the store id and store name to create a datatable \n",
    "    for i in range(len(json_game)):\n",
    "        dict={\"gameID\":json_game[i]['gameID'],\n",
    "              \"steamAppID\":json_game[i]['steamAppID'],\n",
    "             \"external_name\":json_game[i]['external']}\n",
    "        game.append(dict)\n",
    "    game_id= pd.DataFrame(game)\n",
    "    return game_id"
   ]
  },
  {
   "cell_type": "code",
   "execution_count": 4,
   "id": "297bee72",
   "metadata": {},
   "outputs": [
    {
     "data": {
      "text/html": [
       "<div>\n",
       "<style scoped>\n",
       "    .dataframe tbody tr th:only-of-type {\n",
       "        vertical-align: middle;\n",
       "    }\n",
       "\n",
       "    .dataframe tbody tr th {\n",
       "        vertical-align: top;\n",
       "    }\n",
       "\n",
       "    .dataframe thead th {\n",
       "        text-align: right;\n",
       "    }\n",
       "</style>\n",
       "<table border=\"1\" class=\"dataframe\">\n",
       "  <thead>\n",
       "    <tr style=\"text-align: right;\">\n",
       "      <th></th>\n",
       "      <th>gameID</th>\n",
       "      <th>steamAppID</th>\n",
       "      <th>external_name</th>\n",
       "    </tr>\n",
       "  </thead>\n",
       "  <tbody>\n",
       "    <tr>\n",
       "      <th>0</th>\n",
       "      <td>235239</td>\n",
       "      <td>1446780</td>\n",
       "      <td>MONSTER HUNTER RISE</td>\n",
       "    </tr>\n",
       "    <tr>\n",
       "      <th>1</th>\n",
       "      <td>189379</td>\n",
       "      <td>582010</td>\n",
       "      <td>MONSTER HUNTER: WORLD</td>\n",
       "    </tr>\n",
       "    <tr>\n",
       "      <th>2</th>\n",
       "      <td>287215</td>\n",
       "      <td>2246340</td>\n",
       "      <td>Monster Hunter Wilds</td>\n",
       "    </tr>\n",
       "    <tr>\n",
       "      <th>3</th>\n",
       "      <td>285429</td>\n",
       "      <td>2356560</td>\n",
       "      <td>Monster Hunter Stories</td>\n",
       "    </tr>\n",
       "    <tr>\n",
       "      <th>4</th>\n",
       "      <td>242048</td>\n",
       "      <td>None</td>\n",
       "      <td>MONSTER HUNTER RISE: Sunbreak</td>\n",
       "    </tr>\n",
       "  </tbody>\n",
       "</table>\n",
       "</div>"
      ],
      "text/plain": [
       "   gameID steamAppID                  external_name\n",
       "0  235239    1446780            MONSTER HUNTER RISE\n",
       "1  189379     582010          MONSTER HUNTER: WORLD\n",
       "2  287215    2246340           Monster Hunter Wilds\n",
       "3  285429    2356560         Monster Hunter Stories\n",
       "4  242048       None  MONSTER HUNTER RISE: Sunbreak"
      ]
     },
     "execution_count": 4,
     "metadata": {},
     "output_type": "execute_result"
    }
   ],
   "source": [
    "game_search('Monster Hunter').head(5)"
   ]
  },
  {
   "cell_type": "markdown",
   "id": "ba04d73d",
   "metadata": {},
   "source": [
    "By the end of this, I basically made \"search engine\" of any games I can search. This function helped me find the different games in my library and their IDs. I collected this information into a notebook and later a list for future functions"
   ]
  },
  {
   "cell_type": "markdown",
   "id": "fa2a8bbe",
   "metadata": {},
   "source": [
    "###  What I learned"
   ]
  },
  {
   "cell_type": "markdown",
   "id": "0b972cb5",
   "metadata": {},
   "source": [
    "- Using indexing to extract the needed data\n",
    "- Using \"requests\" an \".json()\" to have the JSON File\n",
    "- Creating a function to make the process repetable to find the other games' ids "
   ]
  },
  {
   "cell_type": "markdown",
   "id": "558a635d",
   "metadata": {},
   "source": [
    "## Planning "
   ]
  },
  {
   "cell_type": "markdown",
   "id": "5683406d",
   "metadata": {},
   "source": [
    "With the list_ids at hand, now we need to use the API to extract game_name, ids, deals, retail price and original price. In addition, I wanted the dataset to have, the date when it was extracted and the store name"
   ]
  },
  {
   "cell_type": "markdown",
   "id": "6a6caeeb",
   "metadata": {},
   "source": [
    "## Execution"
   ]
  },
  {
   "cell_type": "markdown",
   "id": "3be386da",
   "metadata": {},
   "source": [
    "This section is the most complicated part of the project. Here, I read the documentation and tinker the code to extract the data. This is the end product after 2-3 hours of tinkering and testing code on how to extract data from one game and using for loops for multiple games. An issue I found was how the data I was extracting didn't have the store names instead it had the store IDs. This was an unfortunate detail but not world ending because I can create a seperate dataframe with stores and their store id's and join the names with the main data frame. After that, I can extract the data frame to a csv so I can store the file into my device."
   ]
  },
  {
   "cell_type": "code",
   "execution_count": 6,
   "id": "5a237374",
   "metadata": {},
   "outputs": [],
   "source": [
    "list_ids=['157711','220845','252306','270964','216932','170812','160759','152601','287841','235239','189379']"
   ]
  },
  {
   "cell_type": "code",
   "execution_count": 7,
   "id": "b2de5f29",
   "metadata": {},
   "outputs": [],
   "source": [
    "json_id=[]\n",
    "for i in range(len(list_ids)):\n",
    "    id='https://www.cheapshark.com/api/1.0/games?id='+list_ids[i]\n",
    "    r=requests.get(id)\n",
    "    json=r.json()\n",
    "    json_id.append(json)"
   ]
  },
  {
   "cell_type": "code",
   "execution_count": 8,
   "id": "c1bb9cd6",
   "metadata": {},
   "outputs": [
    {
     "data": {
      "text/html": [
       "<div>\n",
       "<style scoped>\n",
       "    .dataframe tbody tr th:only-of-type {\n",
       "        vertical-align: middle;\n",
       "    }\n",
       "\n",
       "    .dataframe tbody tr th {\n",
       "        vertical-align: top;\n",
       "    }\n",
       "\n",
       "    .dataframe thead th {\n",
       "        text-align: right;\n",
       "    }\n",
       "</style>\n",
       "<table border=\"1\" class=\"dataframe\">\n",
       "  <thead>\n",
       "    <tr style=\"text-align: right;\">\n",
       "      <th></th>\n",
       "      <th>Time</th>\n",
       "      <th>title</th>\n",
       "      <th>steamAppID</th>\n",
       "      <th>storeID</th>\n",
       "      <th>price</th>\n",
       "      <th>retailprice</th>\n",
       "      <th>savings</th>\n",
       "    </tr>\n",
       "  </thead>\n",
       "  <tbody>\n",
       "    <tr>\n",
       "      <th>0</th>\n",
       "      <td>2025-03-17</td>\n",
       "      <td>NieR: Automata</td>\n",
       "      <td>524220</td>\n",
       "      <td>1</td>\n",
       "      <td>15.99</td>\n",
       "      <td>39.99</td>\n",
       "      <td>60.015004</td>\n",
       "    </tr>\n",
       "    <tr>\n",
       "      <th>1</th>\n",
       "      <td>2025-03-17</td>\n",
       "      <td>NieR Replicant ver.1.22474487139...</td>\n",
       "      <td>1113560</td>\n",
       "      <td>1</td>\n",
       "      <td>23.99</td>\n",
       "      <td>59.99</td>\n",
       "      <td>60.010002</td>\n",
       "    </tr>\n",
       "    <tr>\n",
       "      <th>2</th>\n",
       "      <td>2025-03-17</td>\n",
       "      <td>NieR Replicant ver.1.22474487139...</td>\n",
       "      <td>1113560</td>\n",
       "      <td>11</td>\n",
       "      <td>23.99</td>\n",
       "      <td>59.99</td>\n",
       "      <td>60.010002</td>\n",
       "    </tr>\n",
       "    <tr>\n",
       "      <th>3</th>\n",
       "      <td>2025-03-17</td>\n",
       "      <td>NieR Replicant ver.1.22474487139...</td>\n",
       "      <td>1113560</td>\n",
       "      <td>3</td>\n",
       "      <td>24.00</td>\n",
       "      <td>59.99</td>\n",
       "      <td>59.993332</td>\n",
       "    </tr>\n",
       "    <tr>\n",
       "      <th>4</th>\n",
       "      <td>2025-03-17</td>\n",
       "      <td>NieR Replicant ver.1.22474487139...</td>\n",
       "      <td>1113560</td>\n",
       "      <td>30</td>\n",
       "      <td>28.98</td>\n",
       "      <td>59.99</td>\n",
       "      <td>51.691949</td>\n",
       "    </tr>\n",
       "    <tr>\n",
       "      <th>...</th>\n",
       "      <td>...</td>\n",
       "      <td>...</td>\n",
       "      <td>...</td>\n",
       "      <td>...</td>\n",
       "      <td>...</td>\n",
       "      <td>...</td>\n",
       "      <td>...</td>\n",
       "    </tr>\n",
       "    <tr>\n",
       "      <th>90</th>\n",
       "      <td>2025-03-17</td>\n",
       "      <td>MONSTER HUNTER: WORLD</td>\n",
       "      <td>582010</td>\n",
       "      <td>29</td>\n",
       "      <td>29.99</td>\n",
       "      <td>29.99</td>\n",
       "      <td>0.000000</td>\n",
       "    </tr>\n",
       "    <tr>\n",
       "      <th>91</th>\n",
       "      <td>2025-03-17</td>\n",
       "      <td>MONSTER HUNTER: WORLD</td>\n",
       "      <td>582010</td>\n",
       "      <td>34</td>\n",
       "      <td>29.99</td>\n",
       "      <td>29.99</td>\n",
       "      <td>0.000000</td>\n",
       "    </tr>\n",
       "    <tr>\n",
       "      <th>92</th>\n",
       "      <td>2025-03-17</td>\n",
       "      <td>MONSTER HUNTER: WORLD</td>\n",
       "      <td>582010</td>\n",
       "      <td>2</td>\n",
       "      <td>29.99</td>\n",
       "      <td>29.99</td>\n",
       "      <td>0.000000</td>\n",
       "    </tr>\n",
       "    <tr>\n",
       "      <th>93</th>\n",
       "      <td>2025-03-17</td>\n",
       "      <td>MONSTER HUNTER: WORLD</td>\n",
       "      <td>582010</td>\n",
       "      <td>24</td>\n",
       "      <td>29.99</td>\n",
       "      <td>29.99</td>\n",
       "      <td>0.000000</td>\n",
       "    </tr>\n",
       "    <tr>\n",
       "      <th>94</th>\n",
       "      <td>2025-03-17</td>\n",
       "      <td>MONSTER HUNTER: WORLD</td>\n",
       "      <td>582010</td>\n",
       "      <td>30</td>\n",
       "      <td>59.99</td>\n",
       "      <td>59.99</td>\n",
       "      <td>0.000000</td>\n",
       "    </tr>\n",
       "  </tbody>\n",
       "</table>\n",
       "<p>95 rows × 7 columns</p>\n",
       "</div>"
      ],
      "text/plain": [
       "          Time                                title steamAppID storeID  price  \\\n",
       "0   2025-03-17                       NieR: Automata     524220       1  15.99   \n",
       "1   2025-03-17  NieR Replicant ver.1.22474487139...    1113560       1  23.99   \n",
       "2   2025-03-17  NieR Replicant ver.1.22474487139...    1113560      11  23.99   \n",
       "3   2025-03-17  NieR Replicant ver.1.22474487139...    1113560       3  24.00   \n",
       "4   2025-03-17  NieR Replicant ver.1.22474487139...    1113560      30  28.98   \n",
       "..         ...                                  ...        ...     ...    ...   \n",
       "90  2025-03-17                MONSTER HUNTER: WORLD     582010      29  29.99   \n",
       "91  2025-03-17                MONSTER HUNTER: WORLD     582010      34  29.99   \n",
       "92  2025-03-17                MONSTER HUNTER: WORLD     582010       2  29.99   \n",
       "93  2025-03-17                MONSTER HUNTER: WORLD     582010      24  29.99   \n",
       "94  2025-03-17                MONSTER HUNTER: WORLD     582010      30  59.99   \n",
       "\n",
       "   retailprice    savings  \n",
       "0        39.99  60.015004  \n",
       "1        59.99  60.010002  \n",
       "2        59.99  60.010002  \n",
       "3        59.99  59.993332  \n",
       "4        59.99  51.691949  \n",
       "..         ...        ...  \n",
       "90       29.99   0.000000  \n",
       "91       29.99   0.000000  \n",
       "92       29.99   0.000000  \n",
       "93       29.99   0.000000  \n",
       "94       59.99   0.000000  \n",
       "\n",
       "[95 rows x 7 columns]"
      ]
     },
     "execution_count": 8,
     "metadata": {},
     "output_type": "execute_result"
    }
   ],
   "source": [
    "price=[]\n",
    "for i in range(11):\n",
    "    for j in range(len(json_id[i]['deals'])):\n",
    "        dict={\"Time\": datetime.date.today(),\n",
    "            \"title\":json_id[i]['info']['title'],\n",
    "            \"steamAppID\":json_id[i]['info']['steamAppID'],\n",
    "             \"storeID\":json_id[i]['deals'][j]['storeID'],\n",
    "             \"price\":json_id[i]['deals'][j]['price'] ,\n",
    "             \"retailprice\":json_id[i]['deals'][j]['retailPrice'],\n",
    "             'savings':json_id[i]['deals'][j]['savings']}\n",
    "        price.append(dict)\n",
    "               \n",
    "# Creating the price dataframe\n",
    "price_01=pd.DataFrame(price)\n",
    "price_01"
   ]
  },
  {
   "cell_type": "code",
   "execution_count": 9,
   "id": "597452e6",
   "metadata": {},
   "outputs": [],
   "source": [
    "def store():\n",
    "    store='https://www.cheapshark.com/api/1.0/stores'\n",
    "    #Request the api for information \n",
    "    r= requests.get(store)\n",
    "\n",
    "    #Reads the json file\n",
    "    json_store=r.json()\n",
    "    store=[]\n",
    "\n",
    "    # Iterates the len of json_data and extract the store id and store name to create a datatable \n",
    "    for i in range(len(json_store)):\n",
    "        dict={\"storeID\":json_store[i]['storeID'],\"storeName\":json_store[i]['storeName']}\n",
    "        store.append(dict)\n",
    "\n",
    "    #Creating a DataFrame using a list of Dictionaries \n",
    "    store_id=pd.DataFrame(store)\n",
    "    return store_id"
   ]
  },
  {
   "cell_type": "code",
   "execution_count": 10,
   "id": "53f8ddbf",
   "metadata": {},
   "outputs": [
    {
     "data": {
      "text/html": [
       "<div>\n",
       "<style scoped>\n",
       "    .dataframe tbody tr th:only-of-type {\n",
       "        vertical-align: middle;\n",
       "    }\n",
       "\n",
       "    .dataframe tbody tr th {\n",
       "        vertical-align: top;\n",
       "    }\n",
       "\n",
       "    .dataframe thead th {\n",
       "        text-align: right;\n",
       "    }\n",
       "</style>\n",
       "<table border=\"1\" class=\"dataframe\">\n",
       "  <thead>\n",
       "    <tr style=\"text-align: right;\">\n",
       "      <th></th>\n",
       "      <th>storeID</th>\n",
       "      <th>storeName</th>\n",
       "    </tr>\n",
       "  </thead>\n",
       "  <tbody>\n",
       "    <tr>\n",
       "      <th>0</th>\n",
       "      <td>1</td>\n",
       "      <td>Steam</td>\n",
       "    </tr>\n",
       "    <tr>\n",
       "      <th>1</th>\n",
       "      <td>2</td>\n",
       "      <td>GamersGate</td>\n",
       "    </tr>\n",
       "    <tr>\n",
       "      <th>2</th>\n",
       "      <td>3</td>\n",
       "      <td>GreenManGaming</td>\n",
       "    </tr>\n",
       "    <tr>\n",
       "      <th>3</th>\n",
       "      <td>4</td>\n",
       "      <td>Amazon</td>\n",
       "    </tr>\n",
       "    <tr>\n",
       "      <th>4</th>\n",
       "      <td>5</td>\n",
       "      <td>GameStop</td>\n",
       "    </tr>\n",
       "  </tbody>\n",
       "</table>\n",
       "</div>"
      ],
      "text/plain": [
       "  storeID       storeName\n",
       "0       1           Steam\n",
       "1       2      GamersGate\n",
       "2       3  GreenManGaming\n",
       "3       4          Amazon\n",
       "4       5        GameStop"
      ]
     },
     "execution_count": 10,
     "metadata": {},
     "output_type": "execute_result"
    }
   ],
   "source": [
    "store_id=store()\n",
    "store_id.head()"
   ]
  },
  {
   "cell_type": "code",
   "execution_count": 11,
   "id": "45052fee",
   "metadata": {},
   "outputs": [
    {
     "data": {
      "text/html": [
       "<div>\n",
       "<style scoped>\n",
       "    .dataframe tbody tr th:only-of-type {\n",
       "        vertical-align: middle;\n",
       "    }\n",
       "\n",
       "    .dataframe tbody tr th {\n",
       "        vertical-align: top;\n",
       "    }\n",
       "\n",
       "    .dataframe thead th {\n",
       "        text-align: right;\n",
       "    }\n",
       "</style>\n",
       "<table border=\"1\" class=\"dataframe\">\n",
       "  <thead>\n",
       "    <tr style=\"text-align: right;\">\n",
       "      <th></th>\n",
       "      <th>Time</th>\n",
       "      <th>title</th>\n",
       "      <th>steamAppID</th>\n",
       "      <th>storeID</th>\n",
       "      <th>price</th>\n",
       "      <th>retailprice</th>\n",
       "      <th>savings</th>\n",
       "      <th>storeName</th>\n",
       "    </tr>\n",
       "  </thead>\n",
       "  <tbody>\n",
       "    <tr>\n",
       "      <th>0</th>\n",
       "      <td>2025-03-17</td>\n",
       "      <td>NieR: Automata</td>\n",
       "      <td>524220</td>\n",
       "      <td>1</td>\n",
       "      <td>15.99</td>\n",
       "      <td>39.99</td>\n",
       "      <td>60.015004</td>\n",
       "      <td>Steam</td>\n",
       "    </tr>\n",
       "    <tr>\n",
       "      <th>1</th>\n",
       "      <td>2025-03-17</td>\n",
       "      <td>NieR Replicant ver.1.22474487139...</td>\n",
       "      <td>1113560</td>\n",
       "      <td>1</td>\n",
       "      <td>23.99</td>\n",
       "      <td>59.99</td>\n",
       "      <td>60.010002</td>\n",
       "      <td>Steam</td>\n",
       "    </tr>\n",
       "    <tr>\n",
       "      <th>2</th>\n",
       "      <td>2025-03-17</td>\n",
       "      <td>Persona 5 Royal</td>\n",
       "      <td>1687950</td>\n",
       "      <td>1</td>\n",
       "      <td>23.99</td>\n",
       "      <td>59.99</td>\n",
       "      <td>60.010002</td>\n",
       "      <td>Steam</td>\n",
       "    </tr>\n",
       "    <tr>\n",
       "      <th>3</th>\n",
       "      <td>2025-03-17</td>\n",
       "      <td>Persona 3 Reload</td>\n",
       "      <td>2161700</td>\n",
       "      <td>1</td>\n",
       "      <td>34.99</td>\n",
       "      <td>69.99</td>\n",
       "      <td>50.007144</td>\n",
       "      <td>Steam</td>\n",
       "    </tr>\n",
       "    <tr>\n",
       "      <th>4</th>\n",
       "      <td>2025-03-17</td>\n",
       "      <td>Persona 4 Golden</td>\n",
       "      <td>1113000</td>\n",
       "      <td>1</td>\n",
       "      <td>11.99</td>\n",
       "      <td>19.99</td>\n",
       "      <td>40.020010</td>\n",
       "      <td>Steam</td>\n",
       "    </tr>\n",
       "  </tbody>\n",
       "</table>\n",
       "</div>"
      ],
      "text/plain": [
       "         Time                                title steamAppID storeID  price  \\\n",
       "0  2025-03-17                       NieR: Automata     524220       1  15.99   \n",
       "1  2025-03-17  NieR Replicant ver.1.22474487139...    1113560       1  23.99   \n",
       "2  2025-03-17                      Persona 5 Royal    1687950       1  23.99   \n",
       "3  2025-03-17                     Persona 3 Reload    2161700       1  34.99   \n",
       "4  2025-03-17                     Persona 4 Golden    1113000       1  11.99   \n",
       "\n",
       "  retailprice    savings storeName  \n",
       "0       39.99  60.015004     Steam  \n",
       "1       59.99  60.010002     Steam  \n",
       "2       59.99  60.010002     Steam  \n",
       "3       69.99  50.007144     Steam  \n",
       "4       19.99  40.020010     Steam  "
      ]
     },
     "execution_count": 11,
     "metadata": {},
     "output_type": "execute_result"
    }
   ],
   "source": [
    "sales=  pd.merge(price_01,store_id)\n",
    "sales.head()"
   ]
  },
  {
   "cell_type": "code",
   "execution_count": 14,
   "id": "7f6a9755",
   "metadata": {},
   "outputs": [
    {
     "name": "stdout",
     "output_type": "stream",
     "text": [
      "2025_03_17\n"
     ]
    }
   ],
   "source": [
    "timestr = time.strftime(\"%Y_%m_%d\")\n",
    "print (timestr)\n",
    "sales.to_csv('sales_'+timestr+'.csv', index=False) "
   ]
  },
  {
   "cell_type": "markdown",
   "id": "87217d69",
   "metadata": {},
   "source": [
    "### What I learned"
   ]
  },
  {
   "cell_type": "markdown",
   "id": "87bd88e0",
   "metadata": {},
   "source": [
    "- Merging data frames\n",
    "- Using \"requests\" an \".json()\" to have the JSON File\n",
    "- Utilizing grouped loops to extract data from different sections of the JSON file\n",
    "- Integrated time into the data and utilize the date in the names of the file\n",
    "- Exported CSV files from a Dataframe"
   ]
  }
 ],
 "metadata": {
  "kernelspec": {
   "display_name": "Python 3 (ipykernel)",
   "language": "python",
   "name": "python3"
  },
  "language_info": {
   "codemirror_mode": {
    "name": "ipython",
    "version": 3
   },
   "file_extension": ".py",
   "mimetype": "text/x-python",
   "name": "python",
   "nbconvert_exporter": "python",
   "pygments_lexer": "ipython3",
   "version": "3.10.9"
  }
 },
 "nbformat": 4,
 "nbformat_minor": 5
}
