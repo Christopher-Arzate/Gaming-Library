{
 "cells": [
  {
   "cell_type": "markdown",
   "id": "b03f7ce0",
   "metadata": {},
   "source": [
    "# Library Analysis"
   ]
  },
  {
   "cell_type": "markdown",
   "id": "2bdd3ed7",
   "metadata": {},
   "source": [
    "This is the second part of my analysis. If you want to see the how I was able to get all my data, go find my Technical Analysis on my github. In this section, I will be analysing data to answer some of my question I formulated at the start of the project. "
   ]
  },
  {
   "cell_type": "markdown",
   "id": "2a7a6c6b",
   "metadata": {},
   "source": [
    "## Questions:"
   ]
  },
  {
   "cell_type": "markdown",
   "id": "0b304a5c",
   "metadata": {},
   "source": [
    "- On average, what is the cheapeast day to buy my library?\n",
    "- Which shop provides the cheapest prices of games? The most expensive?"
   ]
  },
  {
   "cell_type": "markdown",
   "id": "a96f8271",
   "metadata": {},
   "source": [
    "## Cleaning:"
   ]
  },
  {
   "cell_type": "markdown",
   "id": "d485b560",
   "metadata": {},
   "source": [
    "In this line of code, I read the csv files from my sales folder I gather for a month and merged them togethe to create the giant csv file "
   ]
  },
  {
   "cell_type": "code",
   "execution_count": 1,
   "id": "bb2f03b3",
   "metadata": {},
   "outputs": [],
   "source": [
    "import requests\n",
    "import pandas as pd\n",
    "import datetime\n",
    "import time\n",
    "import glob\n",
    "import os\n",
    "import seaborn as sns\n",
    "import matplotlib.pyplot as plt"
   ]
  },
  {
   "cell_type": "code",
   "execution_count": 69,
   "id": "2899d41e",
   "metadata": {},
   "outputs": [],
   "source": [
    "folder_path = \"C:\\\\Users\\\\carza\\\\Documents\\\\python projects\\\\Api projects\\\\Sales\"\n",
    "all_files = glob.glob(os.path.join(folder_path, \"*.csv\"))\n",
    "\n",
    "all_df = []\n",
    "for f in all_files:\n",
    "    df = pd.read_csv(f)\n",
    "    all_df.append(df)\n",
    "    \n",
    "library = pd.concat(all_df, ignore_index=True)"
   ]
  },
  {
   "cell_type": "code",
   "execution_count": 70,
   "id": "e09294fb",
   "metadata": {},
   "outputs": [],
   "source": [
    "library.to_csv('library.csv', index=False) "
   ]
  },
  {
   "cell_type": "code",
   "execution_count": 2,
   "id": "8b7a0be8",
   "metadata": {},
   "outputs": [],
   "source": [
    "library=pd.read_csv('library.csv')"
   ]
  },
  {
   "cell_type": "markdown",
   "id": "d257dddc",
   "metadata": {},
   "source": [
    "## General  Analysis"
   ]
  },
  {
   "cell_type": "code",
   "execution_count": 3,
   "id": "917b6ef2",
   "metadata": {},
   "outputs": [
    {
     "data": {
      "text/html": [
       "<div>\n",
       "<style scoped>\n",
       "    .dataframe tbody tr th:only-of-type {\n",
       "        vertical-align: middle;\n",
       "    }\n",
       "\n",
       "    .dataframe tbody tr th {\n",
       "        vertical-align: top;\n",
       "    }\n",
       "\n",
       "    .dataframe thead th {\n",
       "        text-align: right;\n",
       "    }\n",
       "</style>\n",
       "<table border=\"1\" class=\"dataframe\">\n",
       "  <thead>\n",
       "    <tr style=\"text-align: right;\">\n",
       "      <th></th>\n",
       "      <th>Time</th>\n",
       "      <th>title</th>\n",
       "      <th>steamAppID</th>\n",
       "      <th>storeID</th>\n",
       "      <th>price</th>\n",
       "      <th>retailprice</th>\n",
       "      <th>savings</th>\n",
       "      <th>storeName</th>\n",
       "    </tr>\n",
       "  </thead>\n",
       "  <tbody>\n",
       "    <tr>\n",
       "      <th>0</th>\n",
       "      <td>2025-01-13</td>\n",
       "      <td>NieR: Automata</td>\n",
       "      <td>524220.0</td>\n",
       "      <td>1</td>\n",
       "      <td>39.99</td>\n",
       "      <td>39.99</td>\n",
       "      <td>0.0</td>\n",
       "      <td>Steam</td>\n",
       "    </tr>\n",
       "    <tr>\n",
       "      <th>1</th>\n",
       "      <td>2025-01-13</td>\n",
       "      <td>NieR Replicant ver.1.22474487139...</td>\n",
       "      <td>1113560.0</td>\n",
       "      <td>1</td>\n",
       "      <td>59.99</td>\n",
       "      <td>59.99</td>\n",
       "      <td>0.0</td>\n",
       "      <td>Steam</td>\n",
       "    </tr>\n",
       "    <tr>\n",
       "      <th>2</th>\n",
       "      <td>2025-01-13</td>\n",
       "      <td>Persona 5 Royal</td>\n",
       "      <td>1687950.0</td>\n",
       "      <td>1</td>\n",
       "      <td>59.99</td>\n",
       "      <td>59.99</td>\n",
       "      <td>0.0</td>\n",
       "      <td>Steam</td>\n",
       "    </tr>\n",
       "    <tr>\n",
       "      <th>3</th>\n",
       "      <td>2025-01-13</td>\n",
       "      <td>Persona 3 Reload</td>\n",
       "      <td>2161700.0</td>\n",
       "      <td>1</td>\n",
       "      <td>69.99</td>\n",
       "      <td>69.99</td>\n",
       "      <td>0.0</td>\n",
       "      <td>Steam</td>\n",
       "    </tr>\n",
       "    <tr>\n",
       "      <th>4</th>\n",
       "      <td>2025-01-13</td>\n",
       "      <td>Persona 4 Golden</td>\n",
       "      <td>1113000.0</td>\n",
       "      <td>1</td>\n",
       "      <td>19.99</td>\n",
       "      <td>19.99</td>\n",
       "      <td>0.0</td>\n",
       "      <td>Steam</td>\n",
       "    </tr>\n",
       "  </tbody>\n",
       "</table>\n",
       "</div>"
      ],
      "text/plain": [
       "         Time                                title  steamAppID  storeID  \\\n",
       "0  2025-01-13                       NieR: Automata    524220.0        1   \n",
       "1  2025-01-13  NieR Replicant ver.1.22474487139...   1113560.0        1   \n",
       "2  2025-01-13                      Persona 5 Royal   1687950.0        1   \n",
       "3  2025-01-13                     Persona 3 Reload   2161700.0        1   \n",
       "4  2025-01-13                     Persona 4 Golden   1113000.0        1   \n",
       "\n",
       "   price  retailprice  savings storeName  \n",
       "0  39.99        39.99      0.0     Steam  \n",
       "1  59.99        59.99      0.0     Steam  \n",
       "2  59.99        59.99      0.0     Steam  \n",
       "3  69.99        69.99      0.0     Steam  \n",
       "4  19.99        19.99      0.0     Steam  "
      ]
     },
     "execution_count": 3,
     "metadata": {},
     "output_type": "execute_result"
    }
   ],
   "source": [
    "library.head()"
   ]
  },
  {
   "cell_type": "code",
   "execution_count": 4,
   "id": "5162b626",
   "metadata": {},
   "outputs": [
    {
     "data": {
      "text/html": [
       "<div>\n",
       "<style scoped>\n",
       "    .dataframe tbody tr th:only-of-type {\n",
       "        vertical-align: middle;\n",
       "    }\n",
       "\n",
       "    .dataframe tbody tr th {\n",
       "        vertical-align: top;\n",
       "    }\n",
       "\n",
       "    .dataframe thead th {\n",
       "        text-align: right;\n",
       "    }\n",
       "</style>\n",
       "<table border=\"1\" class=\"dataframe\">\n",
       "  <thead>\n",
       "    <tr style=\"text-align: right;\">\n",
       "      <th></th>\n",
       "      <th>storeName</th>\n",
       "      <th>savings</th>\n",
       "    </tr>\n",
       "  </thead>\n",
       "  <tbody>\n",
       "    <tr>\n",
       "      <th>0</th>\n",
       "      <td>GameBillet</td>\n",
       "      <td>39.0</td>\n",
       "    </tr>\n",
       "    <tr>\n",
       "      <th>1</th>\n",
       "      <td>Gamesplanet</td>\n",
       "      <td>33.0</td>\n",
       "    </tr>\n",
       "    <tr>\n",
       "      <th>2</th>\n",
       "      <td>IndieGala</td>\n",
       "      <td>32.0</td>\n",
       "    </tr>\n",
       "    <tr>\n",
       "      <th>3</th>\n",
       "      <td>GOG</td>\n",
       "      <td>32.0</td>\n",
       "    </tr>\n",
       "    <tr>\n",
       "      <th>4</th>\n",
       "      <td>Voidu</td>\n",
       "      <td>30.0</td>\n",
       "    </tr>\n",
       "    <tr>\n",
       "      <th>5</th>\n",
       "      <td>Fanatical</td>\n",
       "      <td>29.0</td>\n",
       "    </tr>\n",
       "    <tr>\n",
       "      <th>6</th>\n",
       "      <td>WinGameStore</td>\n",
       "      <td>28.0</td>\n",
       "    </tr>\n",
       "    <tr>\n",
       "      <th>7</th>\n",
       "      <td>GamersGate</td>\n",
       "      <td>28.0</td>\n",
       "    </tr>\n",
       "    <tr>\n",
       "      <th>8</th>\n",
       "      <td>Humble Store</td>\n",
       "      <td>26.0</td>\n",
       "    </tr>\n",
       "    <tr>\n",
       "      <th>9</th>\n",
       "      <td>DLGamer</td>\n",
       "      <td>23.0</td>\n",
       "    </tr>\n",
       "    <tr>\n",
       "      <th>10</th>\n",
       "      <td>Noctre</td>\n",
       "      <td>22.0</td>\n",
       "    </tr>\n",
       "    <tr>\n",
       "      <th>11</th>\n",
       "      <td>Steam</td>\n",
       "      <td>18.0</td>\n",
       "    </tr>\n",
       "    <tr>\n",
       "      <th>12</th>\n",
       "      <td>Gamesload</td>\n",
       "      <td>18.0</td>\n",
       "    </tr>\n",
       "    <tr>\n",
       "      <th>13</th>\n",
       "      <td>2Game</td>\n",
       "      <td>15.0</td>\n",
       "    </tr>\n",
       "    <tr>\n",
       "      <th>14</th>\n",
       "      <td>GreenManGaming</td>\n",
       "      <td>14.0</td>\n",
       "    </tr>\n",
       "    <tr>\n",
       "      <th>15</th>\n",
       "      <td>Epic Games Store</td>\n",
       "      <td>4.0</td>\n",
       "    </tr>\n",
       "  </tbody>\n",
       "</table>\n",
       "</div>"
      ],
      "text/plain": [
       "           storeName  savings\n",
       "0         GameBillet     39.0\n",
       "1        Gamesplanet     33.0\n",
       "2          IndieGala     32.0\n",
       "3                GOG     32.0\n",
       "4              Voidu     30.0\n",
       "5          Fanatical     29.0\n",
       "6       WinGameStore     28.0\n",
       "7         GamersGate     28.0\n",
       "8       Humble Store     26.0\n",
       "9            DLGamer     23.0\n",
       "10            Noctre     22.0\n",
       "11             Steam     18.0\n",
       "12         Gamesload     18.0\n",
       "13             2Game     15.0\n",
       "14    GreenManGaming     14.0\n",
       "15  Epic Games Store      4.0"
      ]
     },
     "execution_count": 4,
     "metadata": {},
     "output_type": "execute_result"
    }
   ],
   "source": [
    "store_sav=library.groupby(['storeName'])['savings'].mean().sort_values(ascending=False).round().reset_index()\n",
    "store_sav"
   ]
  },
  {
   "cell_type": "code",
   "execution_count": 5,
   "id": "7148da7b",
   "metadata": {},
   "outputs": [
    {
     "data": {
      "image/png": "[encoded data removed]",
      "text/plain": [
       "<Figure size 640x480 with 1 Axes>"
      ]
     },
     "metadata": {},
     "output_type": "display_data"
    }
   ],
   "source": [
    "plt.bar(store_sav['storeName'], store_sav['savings'])\n",
    "plt.title('Discount',fontsize=15)\n",
    "plt.xlabel('Store Name',fontsize=12)\n",
    "plt.ylabel('Percentage',fontsize=12)\n",
    "plt.xticks(rotation=45, ha='right')\n",
    "plt.show()"
   ]
  },
  {
   "cell_type": "markdown",
   "id": "c1d240c7",
   "metadata": {},
   "source": [
    "In this bar graph, we can see that GameBillet gives the most discounted games for my entire library at around a 39% discount price. At the other side of the chart, the Epic Game Store provides the least discounts for my library at around 4% discount."
   ]
  },
  {
   "cell_type": "code",
   "execution_count": 6,
   "id": "c99bd2be",
   "metadata": {},
   "outputs": [
    {
     "data": {
      "text/html": [
       "<div>\n",
       "<style scoped>\n",
       "    .dataframe tbody tr th:only-of-type {\n",
       "        vertical-align: middle;\n",
       "    }\n",
       "\n",
       "    .dataframe tbody tr th {\n",
       "        vertical-align: top;\n",
       "    }\n",
       "\n",
       "    .dataframe thead th {\n",
       "        text-align: right;\n",
       "    }\n",
       "</style>\n",
       "<table border=\"1\" class=\"dataframe\">\n",
       "  <thead>\n",
       "    <tr style=\"text-align: right;\">\n",
       "      <th></th>\n",
       "      <th>title</th>\n",
       "      <th>savings</th>\n",
       "    </tr>\n",
       "  </thead>\n",
       "  <tbody>\n",
       "    <tr>\n",
       "      <th>0</th>\n",
       "      <td>XCOM 2: War of the Chosen</td>\n",
       "      <td>31.0</td>\n",
       "    </tr>\n",
       "    <tr>\n",
       "      <th>1</th>\n",
       "      <td>MONSTER HUNTER RISE</td>\n",
       "      <td>31.0</td>\n",
       "    </tr>\n",
       "    <tr>\n",
       "      <th>2</th>\n",
       "      <td>FINAL FANTASY X/X-2 HD Remaster</td>\n",
       "      <td>31.0</td>\n",
       "    </tr>\n",
       "    <tr>\n",
       "      <th>3</th>\n",
       "      <td>NieR Replicant ver.1.22474487139...</td>\n",
       "      <td>30.0</td>\n",
       "    </tr>\n",
       "    <tr>\n",
       "      <th>4</th>\n",
       "      <td>Persona 5 Royal</td>\n",
       "      <td>28.0</td>\n",
       "    </tr>\n",
       "    <tr>\n",
       "      <th>5</th>\n",
       "      <td>MONSTER HUNTER: WORLD</td>\n",
       "      <td>25.0</td>\n",
       "    </tr>\n",
       "    <tr>\n",
       "      <th>6</th>\n",
       "      <td>Persona 3 Reload</td>\n",
       "      <td>24.0</td>\n",
       "    </tr>\n",
       "    <tr>\n",
       "      <th>7</th>\n",
       "      <td>Persona 4 Golden</td>\n",
       "      <td>21.0</td>\n",
       "    </tr>\n",
       "    <tr>\n",
       "      <th>8</th>\n",
       "      <td>Metaphor: ReFantazio</td>\n",
       "      <td>18.0</td>\n",
       "    </tr>\n",
       "    <tr>\n",
       "      <th>9</th>\n",
       "      <td>NieR: Automata</td>\n",
       "      <td>17.0</td>\n",
       "    </tr>\n",
       "    <tr>\n",
       "      <th>10</th>\n",
       "      <td>The Elder Scrolls V: Skyrim Special Edition</td>\n",
       "      <td>15.0</td>\n",
       "    </tr>\n",
       "  </tbody>\n",
       "</table>\n",
       "</div>"
      ],
      "text/plain": [
       "                                          title  savings\n",
       "0                     XCOM 2: War of the Chosen     31.0\n",
       "1                           MONSTER HUNTER RISE     31.0\n",
       "2               FINAL FANTASY X/X-2 HD Remaster     31.0\n",
       "3           NieR Replicant ver.1.22474487139...     30.0\n",
       "4                               Persona 5 Royal     28.0\n",
       "5                         MONSTER HUNTER: WORLD     25.0\n",
       "6                              Persona 3 Reload     24.0\n",
       "7                              Persona 4 Golden     21.0\n",
       "8                          Metaphor: ReFantazio     18.0\n",
       "9                                NieR: Automata     17.0\n",
       "10  The Elder Scrolls V: Skyrim Special Edition     15.0"
      ]
     },
     "execution_count": 6,
     "metadata": {},
     "output_type": "execute_result"
    }
   ],
   "source": [
    "game_sav=library.groupby(['title'])['savings'].mean().sort_values(ascending=False).round().reset_index()\n",
    "game_sav"
   ]
  },
  {
   "cell_type": "code",
   "execution_count": 7,
   "id": "c8a7e88d",
   "metadata": {},
   "outputs": [
    {
     "data": {
      "image/png": "[encoded data removed]",
      "text/plain": [
       "<Figure size 640x480 with 1 Axes>"
      ]
     },
     "metadata": {},
     "output_type": "display_data"
    }
   ],
   "source": [
    "plt.bar(game_sav['title'], game_sav['savings'])\n",
    "plt.title('Discount')\n",
    "plt.xlabel('Store Name')\n",
    "plt.ylabel('Percentage')\n",
    "plt.xticks(rotation=45, ha='right')\n",
    "plt.show()"
   ]
  },
  {
   "cell_type": "markdown",
   "id": "1b650e2b",
   "metadata": {},
   "source": [
    "XCOM2, Monster Hunter Rise, and Final Fantasy X were discounted the most during the data collection with about a 31% discount. In the other side, The Elder Scrolls V was the least disounted during this period with average discount of 15%."
   ]
  },
  {
   "cell_type": "code",
   "execution_count": 8,
   "id": "13193062",
   "metadata": {},
   "outputs": [
    {
     "data": {
      "text/html": [
       "<div>\n",
       "<style scoped>\n",
       "    .dataframe tbody tr th:only-of-type {\n",
       "        vertical-align: middle;\n",
       "    }\n",
       "\n",
       "    .dataframe tbody tr th {\n",
       "        vertical-align: top;\n",
       "    }\n",
       "\n",
       "    .dataframe thead th {\n",
       "        text-align: right;\n",
       "    }\n",
       "</style>\n",
       "<table border=\"1\" class=\"dataframe\">\n",
       "  <thead>\n",
       "    <tr style=\"text-align: right;\">\n",
       "      <th></th>\n",
       "      <th>title</th>\n",
       "      <th>price</th>\n",
       "    </tr>\n",
       "  </thead>\n",
       "  <tbody>\n",
       "    <tr>\n",
       "      <th>0</th>\n",
       "      <td>Metaphor: ReFantazio</td>\n",
       "      <td>57.53</td>\n",
       "    </tr>\n",
       "    <tr>\n",
       "      <th>1</th>\n",
       "      <td>Persona 3 Reload</td>\n",
       "      <td>53.15</td>\n",
       "    </tr>\n",
       "    <tr>\n",
       "      <th>2</th>\n",
       "      <td>Persona 5 Royal</td>\n",
       "      <td>43.10</td>\n",
       "    </tr>\n",
       "    <tr>\n",
       "      <th>3</th>\n",
       "      <td>NieR Replicant ver.1.22474487139...</td>\n",
       "      <td>42.25</td>\n",
       "    </tr>\n",
       "    <tr>\n",
       "      <th>4</th>\n",
       "      <td>The Elder Scrolls V: Skyrim Special Edition</td>\n",
       "      <td>33.89</td>\n",
       "    </tr>\n",
       "    <tr>\n",
       "      <th>5</th>\n",
       "      <td>NieR: Automata</td>\n",
       "      <td>33.32</td>\n",
       "    </tr>\n",
       "    <tr>\n",
       "      <th>6</th>\n",
       "      <td>MONSTER HUNTER RISE</td>\n",
       "      <td>28.39</td>\n",
       "    </tr>\n",
       "    <tr>\n",
       "      <th>7</th>\n",
       "      <td>XCOM 2: War of the Chosen</td>\n",
       "      <td>27.51</td>\n",
       "    </tr>\n",
       "    <tr>\n",
       "      <th>8</th>\n",
       "      <td>MONSTER HUNTER: WORLD</td>\n",
       "      <td>24.82</td>\n",
       "    </tr>\n",
       "    <tr>\n",
       "      <th>9</th>\n",
       "      <td>FINAL FANTASY X/X-2 HD Remaster</td>\n",
       "      <td>20.74</td>\n",
       "    </tr>\n",
       "    <tr>\n",
       "      <th>10</th>\n",
       "      <td>Persona 4 Golden</td>\n",
       "      <td>15.89</td>\n",
       "    </tr>\n",
       "  </tbody>\n",
       "</table>\n",
       "</div>"
      ],
      "text/plain": [
       "                                          title  price\n",
       "0                          Metaphor: ReFantazio  57.53\n",
       "1                              Persona 3 Reload  53.15\n",
       "2                               Persona 5 Royal  43.10\n",
       "3           NieR Replicant ver.1.22474487139...  42.25\n",
       "4   The Elder Scrolls V: Skyrim Special Edition  33.89\n",
       "5                                NieR: Automata  33.32\n",
       "6                           MONSTER HUNTER RISE  28.39\n",
       "7                     XCOM 2: War of the Chosen  27.51\n",
       "8                         MONSTER HUNTER: WORLD  24.82\n",
       "9               FINAL FANTASY X/X-2 HD Remaster  20.74\n",
       "10                             Persona 4 Golden  15.89"
      ]
     },
     "execution_count": 8,
     "metadata": {},
     "output_type": "execute_result"
    }
   ],
   "source": [
    "game_price=library.groupby(['title'])['price'].mean().sort_values(ascending=False).round(2).reset_index()\n",
    "game_price"
   ]
  },
  {
   "cell_type": "code",
   "execution_count": 9,
   "id": "19a0c013",
   "metadata": {},
   "outputs": [
    {
     "data": {
      "image/png": "[encoded data removed]",
      "text/plain": [
       "<Figure size 640x480 with 1 Axes>"
      ]
     },
     "metadata": {},
     "output_type": "display_data"
    }
   ],
   "source": [
    "plt.bar(game_price['title'], game_price['price'])\n",
    "plt.title('Average Price')\n",
    "plt.xlabel('Game')\n",
    "plt.ylabel('Cost')\n",
    "plt.xticks(rotation=45, ha='right')\n",
    "plt.show()"
   ]
  },
  {
   "cell_type": "markdown",
   "id": "f3243a21",
   "metadata": {},
   "source": [
    "Discounts usually doesn't mean cheaper price if the game was already cheap on retail. On this graph, we see that Metaphor: ReFantazio was the most expensive game to buy with a price of 57.53 dollars while Persona 4 Golden was the cheapest with a price of 15.89 dollars"
   ]
  },
  {
   "cell_type": "code",
   "execution_count": 10,
   "id": "741a4f64",
   "metadata": {},
   "outputs": [],
   "source": [
    "date_sav=library.groupby(['Time'])['savings'].mean().sort_values(ascending=False).round().reset_index()"
   ]
  },
  {
   "cell_type": "code",
   "execution_count": 11,
   "id": "8d9848ef",
   "metadata": {},
   "outputs": [
    {
     "data": {
      "image/png": "[encoded data removed]",
      "text/plain": [
       "<Figure size 640x480 with 1 Axes>"
      ]
     },
     "metadata": {},
     "output_type": "display_data"
    }
   ],
   "source": [
    "plt.bar(date_sav['Time'], date_sav['savings'])\n",
    "plt.title('Discounts by Date')\n",
    "plt.xlabel('Date')\n",
    "plt.ylabel('Percentage')\n",
    "plt.xticks(rotation=45, ha='right')\n",
    "plt.show()"
   ]
  },
  {
   "cell_type": "code",
   "execution_count": 12,
   "id": "961cbb1e",
   "metadata": {},
   "outputs": [
    {
     "data": {
      "text/html": [
       "<div>\n",
       "<style scoped>\n",
       "    .dataframe tbody tr th:only-of-type {\n",
       "        vertical-align: middle;\n",
       "    }\n",
       "\n",
       "    .dataframe tbody tr th {\n",
       "        vertical-align: top;\n",
       "    }\n",
       "\n",
       "    .dataframe thead th {\n",
       "        text-align: right;\n",
       "    }\n",
       "</style>\n",
       "<table border=\"1\" class=\"dataframe\">\n",
       "  <thead>\n",
       "    <tr style=\"text-align: right;\">\n",
       "      <th></th>\n",
       "      <th>Time</th>\n",
       "      <th>savings</th>\n",
       "    </tr>\n",
       "  </thead>\n",
       "  <tbody>\n",
       "    <tr>\n",
       "      <th>0</th>\n",
       "      <td>2025-02-02</td>\n",
       "      <td>55.0</td>\n",
       "    </tr>\n",
       "    <tr>\n",
       "      <th>1</th>\n",
       "      <td>2025-01-29</td>\n",
       "      <td>50.0</td>\n",
       "    </tr>\n",
       "    <tr>\n",
       "      <th>2</th>\n",
       "      <td>2025-01-28</td>\n",
       "      <td>48.0</td>\n",
       "    </tr>\n",
       "    <tr>\n",
       "      <th>3</th>\n",
       "      <td>2025-02-04</td>\n",
       "      <td>42.0</td>\n",
       "    </tr>\n",
       "    <tr>\n",
       "      <th>4</th>\n",
       "      <td>2025-01-27</td>\n",
       "      <td>42.0</td>\n",
       "    </tr>\n",
       "  </tbody>\n",
       "</table>\n",
       "</div>"
      ],
      "text/plain": [
       "         Time  savings\n",
       "0  2025-02-02     55.0\n",
       "1  2025-01-29     50.0\n",
       "2  2025-01-28     48.0\n",
       "3  2025-02-04     42.0\n",
       "4  2025-01-27     42.0"
      ]
     },
     "execution_count": 12,
     "metadata": {},
     "output_type": "execute_result"
    }
   ],
   "source": [
    "date_sav_top_5=library.groupby(['Time'])['savings'].mean().sort_values(ascending=False).round().reset_index().head(5)\n",
    "date_sav_top_5"
   ]
  },
  {
   "cell_type": "code",
   "execution_count": 13,
   "id": "23a029e6",
   "metadata": {},
   "outputs": [
    {
     "data": {
      "image/png": "[encoded data removed]",
      "text/plain": [
       "<Figure size 640x480 with 1 Axes>"
      ]
     },
     "metadata": {},
     "output_type": "display_data"
    }
   ],
   "source": [
    "plt.bar(date_sav_top_5['Time'], date_sav_top_5['savings'])\n",
    "plt.title('Top 5 Days with the Best Discounts')\n",
    "plt.xlabel('Date')\n",
    "plt.ylabel('Percentage')\n",
    "plt.xticks(rotation=45, ha='right')\n",
    "plt.show()"
   ]
  },
  {
   "cell_type": "code",
   "execution_count": 14,
   "id": "1b242f06",
   "metadata": {},
   "outputs": [
    {
     "data": {
      "text/html": [
       "<div>\n",
       "<style scoped>\n",
       "    .dataframe tbody tr th:only-of-type {\n",
       "        vertical-align: middle;\n",
       "    }\n",
       "\n",
       "    .dataframe tbody tr th {\n",
       "        vertical-align: top;\n",
       "    }\n",
       "\n",
       "    .dataframe thead th {\n",
       "        text-align: right;\n",
       "    }\n",
       "</style>\n",
       "<table border=\"1\" class=\"dataframe\">\n",
       "  <thead>\n",
       "    <tr style=\"text-align: right;\">\n",
       "      <th></th>\n",
       "      <th>Time</th>\n",
       "      <th>savings</th>\n",
       "    </tr>\n",
       "  </thead>\n",
       "  <tbody>\n",
       "    <tr>\n",
       "      <th>13</th>\n",
       "      <td>2025-01-18</td>\n",
       "      <td>10.0</td>\n",
       "    </tr>\n",
       "    <tr>\n",
       "      <th>14</th>\n",
       "      <td>2025-01-16</td>\n",
       "      <td>9.0</td>\n",
       "    </tr>\n",
       "    <tr>\n",
       "      <th>15</th>\n",
       "      <td>2025-01-14</td>\n",
       "      <td>8.0</td>\n",
       "    </tr>\n",
       "    <tr>\n",
       "      <th>16</th>\n",
       "      <td>2025-01-15</td>\n",
       "      <td>7.0</td>\n",
       "    </tr>\n",
       "    <tr>\n",
       "      <th>17</th>\n",
       "      <td>2025-01-13</td>\n",
       "      <td>6.0</td>\n",
       "    </tr>\n",
       "  </tbody>\n",
       "</table>\n",
       "</div>"
      ],
      "text/plain": [
       "          Time  savings\n",
       "13  2025-01-18     10.0\n",
       "14  2025-01-16      9.0\n",
       "15  2025-01-14      8.0\n",
       "16  2025-01-15      7.0\n",
       "17  2025-01-13      6.0"
      ]
     },
     "execution_count": 14,
     "metadata": {},
     "output_type": "execute_result"
    }
   ],
   "source": [
    "date_sav_last_5=library.groupby(['Time'])['savings'].mean().sort_values(ascending=False).round().reset_index().tail(5)\n",
    "date_sav_last_5"
   ]
  },
  {
   "cell_type": "code",
   "execution_count": 15,
   "id": "28ffc38c",
   "metadata": {},
   "outputs": [
    {
     "data": {
      "image/png": "[encoded data removed]",
      "text/plain": [
       "<Figure size 640x480 with 1 Axes>"
      ]
     },
     "metadata": {},
     "output_type": "display_data"
    }
   ],
   "source": [
    "plt.bar(date_sav_last_5['Time'], date_sav_last_5['savings'])\n",
    "plt.title(' 5 Days with the Worst Discounts')\n",
    "plt.xlabel('Date')\n",
    "plt.ylabel('Percentage')\n",
    "plt.xticks(rotation=45, ha='right')\n",
    "plt.show()"
   ]
  },
  {
   "cell_type": "markdown",
   "id": "fd8644a9",
   "metadata": {},
   "source": [
    "Now we group the data based on the dates. We found that the best day for discounted games was on February 2, 2025 with a 55% discount. The only other day that had a discount of 50% or higher was on January 29, 2025 with a 50% discount. Now, the worst day for discounts was on January 13, 2025 with a 6% discount"
   ]
  },
  {
   "cell_type": "markdown",
   "id": "41b3b97e",
   "metadata": {},
   "source": [
    "## Game Analysis"
   ]
  },
  {
   "cell_type": "markdown",
   "id": "14856645",
   "metadata": {},
   "source": [
    "In this section, I will be going to check each game and answer a few questions.\n",
    "\n",
    "**Question:**\n",
    "- On average, which store provides the cheapest price of the game? The most expensive?\n",
    "- Which day provided the cheapest and most expensive price for these games? "
   ]
  },
  {
   "cell_type": "markdown",
   "id": "b06371b6",
   "metadata": {},
   "source": [
    "### XCOM 2: War of the Chosen"
   ]
  },
  {
   "cell_type": "markdown",
   "id": "b0d5a0e7",
   "metadata": {},
   "source": [
    "**Summary:**\n",
    "\n",
    "- Expensive Store: Gamesload; \\$39.99 \n",
    "- Cheapest Store: Fanatical; \\$19.67\n",
    "- Most Expensive Day to buy: January 15,2025; \\$38.99\n",
    "- Cheapest Day to buy: February 2, 2025; \\$9.41\n"
   ]
  },
  {
   "cell_type": "code",
   "execution_count": 16,
   "id": "01d53d0f",
   "metadata": {},
   "outputs": [
    {
     "data": {
      "text/html": [
       "<div>\n",
       "<style scoped>\n",
       "    .dataframe tbody tr th:only-of-type {\n",
       "        vertical-align: middle;\n",
       "    }\n",
       "\n",
       "    .dataframe tbody tr th {\n",
       "        vertical-align: top;\n",
       "    }\n",
       "\n",
       "    .dataframe thead th {\n",
       "        text-align: right;\n",
       "    }\n",
       "</style>\n",
       "<table border=\"1\" class=\"dataframe\">\n",
       "  <thead>\n",
       "    <tr style=\"text-align: right;\">\n",
       "      <th></th>\n",
       "      <th>Time</th>\n",
       "      <th>title</th>\n",
       "      <th>steamAppID</th>\n",
       "      <th>storeID</th>\n",
       "      <th>price</th>\n",
       "      <th>retailprice</th>\n",
       "      <th>savings</th>\n",
       "      <th>storeName</th>\n",
       "    </tr>\n",
       "  </thead>\n",
       "  <tbody>\n",
       "    <tr>\n",
       "      <th>11</th>\n",
       "      <td>2025-01-13</td>\n",
       "      <td>XCOM 2: War of the Chosen</td>\n",
       "      <td>NaN</td>\n",
       "      <td>30</td>\n",
       "      <td>39.99</td>\n",
       "      <td>39.99</td>\n",
       "      <td>0.000000</td>\n",
       "      <td>IndieGala</td>\n",
       "    </tr>\n",
       "    <tr>\n",
       "      <th>19</th>\n",
       "      <td>2025-01-13</td>\n",
       "      <td>XCOM 2: War of the Chosen</td>\n",
       "      <td>NaN</td>\n",
       "      <td>3</td>\n",
       "      <td>39.99</td>\n",
       "      <td>39.99</td>\n",
       "      <td>0.000000</td>\n",
       "      <td>GreenManGaming</td>\n",
       "    </tr>\n",
       "    <tr>\n",
       "      <th>29</th>\n",
       "      <td>2025-01-13</td>\n",
       "      <td>XCOM 2: War of the Chosen</td>\n",
       "      <td>NaN</td>\n",
       "      <td>11</td>\n",
       "      <td>39.99</td>\n",
       "      <td>39.99</td>\n",
       "      <td>0.000000</td>\n",
       "      <td>Humble Store</td>\n",
       "    </tr>\n",
       "    <tr>\n",
       "      <th>38</th>\n",
       "      <td>2025-01-13</td>\n",
       "      <td>XCOM 2: War of the Chosen</td>\n",
       "      <td>NaN</td>\n",
       "      <td>23</td>\n",
       "      <td>33.96</td>\n",
       "      <td>39.99</td>\n",
       "      <td>15.078770</td>\n",
       "      <td>GameBillet</td>\n",
       "    </tr>\n",
       "    <tr>\n",
       "      <th>46</th>\n",
       "      <td>2025-01-13</td>\n",
       "      <td>XCOM 2: War of the Chosen</td>\n",
       "      <td>NaN</td>\n",
       "      <td>15</td>\n",
       "      <td>35.09</td>\n",
       "      <td>39.99</td>\n",
       "      <td>12.253063</td>\n",
       "      <td>Fanatical</td>\n",
       "    </tr>\n",
       "  </tbody>\n",
       "</table>\n",
       "</div>"
      ],
      "text/plain": [
       "          Time                      title  steamAppID  storeID  price  \\\n",
       "11  2025-01-13  XCOM 2: War of the Chosen         NaN       30  39.99   \n",
       "19  2025-01-13  XCOM 2: War of the Chosen         NaN        3  39.99   \n",
       "29  2025-01-13  XCOM 2: War of the Chosen         NaN       11  39.99   \n",
       "38  2025-01-13  XCOM 2: War of the Chosen         NaN       23  33.96   \n",
       "46  2025-01-13  XCOM 2: War of the Chosen         NaN       15  35.09   \n",
       "\n",
       "    retailprice    savings       storeName  \n",
       "11        39.99   0.000000       IndieGala  \n",
       "19        39.99   0.000000  GreenManGaming  \n",
       "29        39.99   0.000000    Humble Store  \n",
       "38        39.99  15.078770      GameBillet  \n",
       "46        39.99  12.253063       Fanatical  "
      ]
     },
     "execution_count": 16,
     "metadata": {},
     "output_type": "execute_result"
    }
   ],
   "source": [
    "XCOM2 =library[library['title']=='XCOM 2: War of the Chosen']\n",
    "XCOM2.head()"
   ]
  },
  {
   "cell_type": "code",
   "execution_count": 22,
   "id": "c56689c0",
   "metadata": {},
   "outputs": [
    {
     "data": {
      "text/html": [
       "<div>\n",
       "<style scoped>\n",
       "    .dataframe tbody tr th:only-of-type {\n",
       "        vertical-align: middle;\n",
       "    }\n",
       "\n",
       "    .dataframe tbody tr th {\n",
       "        vertical-align: top;\n",
       "    }\n",
       "\n",
       "    .dataframe thead th {\n",
       "        text-align: right;\n",
       "    }\n",
       "</style>\n",
       "<table border=\"1\" class=\"dataframe\">\n",
       "  <thead>\n",
       "    <tr style=\"text-align: right;\">\n",
       "      <th></th>\n",
       "      <th>storeName</th>\n",
       "      <th>price</th>\n",
       "    </tr>\n",
       "  </thead>\n",
       "  <tbody>\n",
       "    <tr>\n",
       "      <th>0</th>\n",
       "      <td>Gamesload</td>\n",
       "      <td>39.99</td>\n",
       "    </tr>\n",
       "    <tr>\n",
       "      <th>1</th>\n",
       "      <td>GreenManGaming</td>\n",
       "      <td>39.99</td>\n",
       "    </tr>\n",
       "    <tr>\n",
       "      <th>2</th>\n",
       "      <td>2Game</td>\n",
       "      <td>31.99</td>\n",
       "    </tr>\n",
       "    <tr>\n",
       "      <th>3</th>\n",
       "      <td>Humble Store</td>\n",
       "      <td>31.99</td>\n",
       "    </tr>\n",
       "    <tr>\n",
       "      <th>4</th>\n",
       "      <td>IndieGala</td>\n",
       "      <td>27.86</td>\n",
       "    </tr>\n",
       "    <tr>\n",
       "      <th>5</th>\n",
       "      <td>GamersGate</td>\n",
       "      <td>25.99</td>\n",
       "    </tr>\n",
       "    <tr>\n",
       "      <th>6</th>\n",
       "      <td>Voidu</td>\n",
       "      <td>25.99</td>\n",
       "    </tr>\n",
       "    <tr>\n",
       "      <th>7</th>\n",
       "      <td>GOG</td>\n",
       "      <td>25.99</td>\n",
       "    </tr>\n",
       "    <tr>\n",
       "      <th>8</th>\n",
       "      <td>Noctre</td>\n",
       "      <td>25.84</td>\n",
       "    </tr>\n",
       "    <tr>\n",
       "      <th>9</th>\n",
       "      <td>GameBillet</td>\n",
       "      <td>22.16</td>\n",
       "    </tr>\n",
       "    <tr>\n",
       "      <th>10</th>\n",
       "      <td>WinGameStore</td>\n",
       "      <td>20.16</td>\n",
       "    </tr>\n",
       "    <tr>\n",
       "      <th>11</th>\n",
       "      <td>Gamesplanet</td>\n",
       "      <td>19.99</td>\n",
       "    </tr>\n",
       "    <tr>\n",
       "      <th>12</th>\n",
       "      <td>Fanatical</td>\n",
       "      <td>19.67</td>\n",
       "    </tr>\n",
       "  </tbody>\n",
       "</table>\n",
       "</div>"
      ],
      "text/plain": [
       "         storeName  price\n",
       "0        Gamesload  39.99\n",
       "1   GreenManGaming  39.99\n",
       "2            2Game  31.99\n",
       "3     Humble Store  31.99\n",
       "4        IndieGala  27.86\n",
       "5       GamersGate  25.99\n",
       "6            Voidu  25.99\n",
       "7              GOG  25.99\n",
       "8           Noctre  25.84\n",
       "9       GameBillet  22.16\n",
       "10    WinGameStore  20.16\n",
       "11     Gamesplanet  19.99\n",
       "12       Fanatical  19.67"
      ]
     },
     "execution_count": 22,
     "metadata": {},
     "output_type": "execute_result"
    }
   ],
   "source": [
    "XCOM2_price=XCOM2.groupby(['storeName'])['price'].mean().sort_values(ascending=False).round(2).reset_index()\n",
    "XCOM2_price"
   ]
  },
  {
   "cell_type": "code",
   "execution_count": 20,
   "id": "2cc53f2f",
   "metadata": {},
   "outputs": [
    {
     "data": {
      "text/html": [
       "<div>\n",
       "<style scoped>\n",
       "    .dataframe tbody tr th:only-of-type {\n",
       "        vertical-align: middle;\n",
       "    }\n",
       "\n",
       "    .dataframe tbody tr th {\n",
       "        vertical-align: top;\n",
       "    }\n",
       "\n",
       "    .dataframe thead th {\n",
       "        text-align: right;\n",
       "    }\n",
       "</style>\n",
       "<table border=\"1\" class=\"dataframe\">\n",
       "  <thead>\n",
       "    <tr style=\"text-align: right;\">\n",
       "      <th></th>\n",
       "      <th>Time</th>\n",
       "      <th>price</th>\n",
       "    </tr>\n",
       "  </thead>\n",
       "  <tbody>\n",
       "    <tr>\n",
       "      <th>0</th>\n",
       "      <td>2025-01-15</td>\n",
       "      <td>38.99</td>\n",
       "    </tr>\n",
       "    <tr>\n",
       "      <th>1</th>\n",
       "      <td>2025-01-13</td>\n",
       "      <td>38.61</td>\n",
       "    </tr>\n",
       "    <tr>\n",
       "      <th>2</th>\n",
       "      <td>2025-01-14</td>\n",
       "      <td>38.61</td>\n",
       "    </tr>\n",
       "    <tr>\n",
       "      <th>3</th>\n",
       "      <td>2025-01-16</td>\n",
       "      <td>38.53</td>\n",
       "    </tr>\n",
       "    <tr>\n",
       "      <th>4</th>\n",
       "      <td>2025-01-17</td>\n",
       "      <td>38.53</td>\n",
       "    </tr>\n",
       "    <tr>\n",
       "      <th>5</th>\n",
       "      <td>2025-01-18</td>\n",
       "      <td>38.53</td>\n",
       "    </tr>\n",
       "    <tr>\n",
       "      <th>6</th>\n",
       "      <td>2025-01-19</td>\n",
       "      <td>38.53</td>\n",
       "    </tr>\n",
       "    <tr>\n",
       "      <th>7</th>\n",
       "      <td>2025-01-21</td>\n",
       "      <td>38.53</td>\n",
       "    </tr>\n",
       "    <tr>\n",
       "      <th>8</th>\n",
       "      <td>2025-01-23</td>\n",
       "      <td>27.89</td>\n",
       "    </tr>\n",
       "    <tr>\n",
       "      <th>9</th>\n",
       "      <td>2025-02-10</td>\n",
       "      <td>25.67</td>\n",
       "    </tr>\n",
       "    <tr>\n",
       "      <th>10</th>\n",
       "      <td>2025-02-05</td>\n",
       "      <td>25.66</td>\n",
       "    </tr>\n",
       "    <tr>\n",
       "      <th>11</th>\n",
       "      <td>2025-02-04</td>\n",
       "      <td>22.89</td>\n",
       "    </tr>\n",
       "    <tr>\n",
       "      <th>12</th>\n",
       "      <td>2025-01-25</td>\n",
       "      <td>14.95</td>\n",
       "    </tr>\n",
       "    <tr>\n",
       "      <th>13</th>\n",
       "      <td>2025-01-27</td>\n",
       "      <td>14.95</td>\n",
       "    </tr>\n",
       "    <tr>\n",
       "      <th>14</th>\n",
       "      <td>2025-01-24</td>\n",
       "      <td>14.95</td>\n",
       "    </tr>\n",
       "    <tr>\n",
       "      <th>15</th>\n",
       "      <td>2025-01-28</td>\n",
       "      <td>14.95</td>\n",
       "    </tr>\n",
       "    <tr>\n",
       "      <th>16</th>\n",
       "      <td>2025-01-29</td>\n",
       "      <td>14.95</td>\n",
       "    </tr>\n",
       "    <tr>\n",
       "      <th>17</th>\n",
       "      <td>2025-02-02</td>\n",
       "      <td>9.41</td>\n",
       "    </tr>\n",
       "  </tbody>\n",
       "</table>\n",
       "</div>"
      ],
      "text/plain": [
       "          Time  price\n",
       "0   2025-01-15  38.99\n",
       "1   2025-01-13  38.61\n",
       "2   2025-01-14  38.61\n",
       "3   2025-01-16  38.53\n",
       "4   2025-01-17  38.53\n",
       "5   2025-01-18  38.53\n",
       "6   2025-01-19  38.53\n",
       "7   2025-01-21  38.53\n",
       "8   2025-01-23  27.89\n",
       "9   2025-02-10  25.67\n",
       "10  2025-02-05  25.66\n",
       "11  2025-02-04  22.89\n",
       "12  2025-01-25  14.95\n",
       "13  2025-01-27  14.95\n",
       "14  2025-01-24  14.95\n",
       "15  2025-01-28  14.95\n",
       "16  2025-01-29  14.95\n",
       "17  2025-02-02   9.41"
      ]
     },
     "execution_count": 20,
     "metadata": {},
     "output_type": "execute_result"
    }
   ],
   "source": [
    "XCOM2_time=XCOM2.groupby(['Time'])['price'].mean().sort_values(ascending=False).round(2).reset_index()\n",
    "XCOM2_time"
   ]
  },
  {
   "cell_type": "markdown",
   "id": "eae23a60",
   "metadata": {},
   "source": [
    "### MONSTER HUNTER RISE"
   ]
  },
  {
   "cell_type": "markdown",
   "id": "30d71be5",
   "metadata": {},
   "source": [
    "**Summary:**\n",
    "\n",
    "- Expensive Store: 2Game; \\$33.33 \n",
    "- Cheapest Store: GamesPlanet; \\$16.50\n",
    "- Most Expensive Day to buy: January 13,2025; \\$38.37\n",
    "- Cheapest Day to buy: February 2, 2025; \\$9.21"
   ]
  },
  {
   "cell_type": "code",
   "execution_count": 23,
   "id": "544ee9b7",
   "metadata": {},
   "outputs": [
    {
     "name": "stdout",
     "output_type": "stream",
     "text": [
      "          Time  price\n",
      "0   2025-01-13  38.37\n",
      "1   2025-01-14  36.35\n",
      "2   2025-01-15  36.35\n",
      "3   2025-01-16  36.35\n",
      "4   2025-01-17  36.35\n",
      "5   2025-01-18  36.35\n",
      "6   2025-01-19  36.35\n",
      "7   2025-01-21  35.96\n",
      "8   2025-01-23  29.50\n",
      "9   2025-02-10  28.71\n",
      "10  2025-01-25  27.03\n",
      "11  2025-01-24  27.03\n",
      "12  2025-02-05  24.31\n",
      "13  2025-01-27  22.99\n",
      "14  2025-02-04  20.39\n",
      "15  2025-01-28  15.81\n",
      "16  2025-01-29  13.51\n",
      "17  2025-02-02   9.21\n",
      "         storeName  price\n",
      "0            2Game  33.33\n",
      "1           Noctre  33.24\n",
      "2     WinGameStore  32.12\n",
      "3     Humble Store  31.66\n",
      "4            Steam  31.66\n",
      "5        IndieGala  29.82\n",
      "6   GreenManGaming  29.74\n",
      "7       GamersGate  29.66\n",
      "8        Gamesload  28.33\n",
      "9            Voidu  28.33\n",
      "10       Fanatical  23.53\n",
      "11      GameBillet  21.11\n",
      "12     Gamesplanet  16.50\n"
     ]
    }
   ],
   "source": [
    "MHR =library[library['title']=='MONSTER HUNTER RISE']\n",
    "\n",
    "MHR_price=MHR.groupby(['storeName'])['price'].mean().sort_values(ascending=False).round(2).reset_index()\n",
    "MHR_time=MHR.groupby(['Time'])['price'].mean().sort_values(ascending=False).round(2).reset_index()\n",
    "print(MHR_time)\n",
    "print(MHR_price)"
   ]
  },
  {
   "cell_type": "markdown",
   "id": "5b7fca7d",
   "metadata": {},
   "source": [
    "### FINAL FANTASY X/X-2 HD Remaster"
   ]
  },
  {
   "cell_type": "markdown",
   "id": "b3a6ebd1",
   "metadata": {},
   "source": [
    "**Summary:**\n",
    "\n",
    "- Expensive Store: GreenManGaming; \\$28.99 \n",
    "- Cheapest Store: IndieGala; \\$12.98\n",
    "- Most Expensive Day to buy: January 13,2025; \\$25.74\n",
    "- Cheapest Day to buy: February 5, 2025; \\$16.74"
   ]
  },
  {
   "cell_type": "code",
   "execution_count": 24,
   "id": "bf5b0f1e",
   "metadata": {},
   "outputs": [
    {
     "name": "stdout",
     "output_type": "stream",
     "text": [
      "          Time  price\n",
      "0   2025-01-13  25.74\n",
      "1   2025-01-14  25.74\n",
      "2   2025-01-15  25.74\n",
      "3   2025-02-10  21.24\n",
      "4   2025-01-17  21.24\n",
      "5   2025-01-18  21.24\n",
      "6   2025-01-19  21.24\n",
      "7   2025-01-21  21.24\n",
      "8   2025-01-23  21.24\n",
      "9   2025-01-16  21.24\n",
      "10  2025-01-25  21.24\n",
      "11  2025-01-27  21.24\n",
      "12  2025-01-24  21.24\n",
      "13  2025-01-28  16.74\n",
      "14  2025-01-29  16.74\n",
      "15  2025-02-02  16.74\n",
      "16  2025-02-04  16.74\n",
      "17  2025-02-05  16.74\n",
      "        storeName  price\n",
      "0  GreenManGaming  28.99\n",
      "1           Steam  24.99\n",
      "2    Humble Store  15.99\n",
      "3       IndieGala  12.98\n"
     ]
    }
   ],
   "source": [
    "FFX =library[library['title']=='FINAL FANTASY X/X-2 HD Remaster']\n",
    "\n",
    "FFX_price=FFX.groupby(['storeName'])['price'].mean().sort_values(ascending=False).round(2).reset_index()\n",
    "FFX_time=FFX.groupby(['Time'])['price'].mean().sort_values(ascending=False).round(2).reset_index()\n",
    "print(FFX_time)\n",
    "print(FFX_price)"
   ]
  },
  {
   "cell_type": "markdown",
   "id": "c9e24302",
   "metadata": {},
   "source": [
    "### NieR Replicant ver.1.22474487139..."
   ]
  },
  {
   "cell_type": "markdown",
   "id": "e4e85d0d",
   "metadata": {},
   "source": [
    "**Summary:**\n",
    "\n",
    "- Expensive Store: GreenManGaming; \\$52.39\n",
    "- Cheapest Store: IndieGala; \\$34.24\n",
    "- Most Expensive Day to buy: January 13,2025; \\$57.99\n",
    "- Cheapest Day to buy: February 5, 2025; \\$29.01"
   ]
  },
  {
   "cell_type": "code",
   "execution_count": 26,
   "id": "23fff8ae",
   "metadata": {},
   "outputs": [
    {
     "name": "stdout",
     "output_type": "stream",
     "text": [
      "          Time  price\n",
      "0   2025-01-13  52.39\n",
      "1   2025-01-14  52.24\n",
      "2   2025-01-15  52.24\n",
      "3   2025-02-10  43.24\n",
      "4   2025-01-17  43.24\n",
      "5   2025-01-18  43.24\n",
      "6   2025-01-19  43.24\n",
      "7   2025-01-21  43.24\n",
      "8   2025-01-23  43.24\n",
      "9   2025-01-16  43.24\n",
      "10  2025-01-25  43.24\n",
      "11  2025-01-27  43.24\n",
      "12  2025-01-24  43.24\n",
      "13  2025-01-28  34.24\n",
      "14  2025-01-29  34.24\n",
      "15  2025-02-02  34.24\n",
      "16  2025-02-04  34.24\n",
      "17  2025-02-05  34.24\n",
      "        storeName  price\n",
      "0  GreenManGaming  57.99\n",
      "1           Steam  49.99\n",
      "2    Humble Store  31.99\n",
      "3       IndieGala  29.01\n"
     ]
    }
   ],
   "source": [
    "NR =library[library['title']=='NieR Replicant ver.1.22474487139...']\n",
    "\n",
    "NR_price=NR.groupby(['storeName'])['price'].mean().sort_values(ascending=False).round(2).reset_index()\n",
    "NR_time=NR.groupby(['Time'])['price'].mean().sort_values(ascending=False).round(2).reset_index()\n",
    "print(NR_time)\n",
    "print(NR_price)"
   ]
  },
  {
   "cell_type": "markdown",
   "id": "0d5c251e",
   "metadata": {},
   "source": [
    "### Persona 5 Royal\t"
   ]
  },
  {
   "cell_type": "markdown",
   "id": "09b898ac",
   "metadata": {},
   "source": [
    "**Summary:**\n",
    "\n",
    "- Expensive Store: 2Game; \\$51.99\n",
    "- Cheapest Store: IndieGala; \\$35.90\n",
    "- Most Expensive Day to buy: January 15,2025; \\$56.30\n",
    "- Cheapest Day to buy: February 5, 2025; \\$22.54"
   ]
  },
  {
   "cell_type": "code",
   "execution_count": 29,
   "id": "443ad218",
   "metadata": {},
   "outputs": [
    {
     "name": "stdout",
     "output_type": "stream",
     "text": [
      "          Time  price\n",
      "0   2025-01-15  56.30\n",
      "1   2025-01-16  56.30\n",
      "2   2025-01-17  56.30\n",
      "3   2025-01-18  56.30\n",
      "4   2025-01-19  56.30\n",
      "5   2025-01-13  54.52\n",
      "6   2025-01-14  54.52\n",
      "7   2025-01-21  52.83\n",
      "8   2025-01-23  52.83\n",
      "9   2025-02-10  50.52\n",
      "10  2025-02-05  42.52\n",
      "11  2025-01-24  30.40\n",
      "12  2025-01-25  26.90\n",
      "13  2025-01-27  26.90\n",
      "14  2025-01-28  26.90\n",
      "15  2025-01-29  26.90\n",
      "16  2025-02-04  26.01\n",
      "17  2025-02-02  22.54\n",
      "        storeName  price\n",
      "0           2Game  51.99\n",
      "1  GreenManGaming  45.06\n",
      "2    Humble Store  43.99\n",
      "3           Steam  43.99\n",
      "4         DLGamer  43.67\n",
      "5    WinGameStore  42.43\n",
      "6     Gamesplanet  41.93\n",
      "7       Fanatical  38.92\n",
      "8      GameBillet  35.90\n"
     ]
    }
   ],
   "source": [
    "P5 =library[library['title']=='Persona 5 Royal']\n",
    "\n",
    "P5_price=P5.groupby(['storeName'])['price'].mean().sort_values(ascending=False).round(2).reset_index()\n",
    "P5_time=P5.groupby(['Time'])['price'].mean().sort_values(ascending=False).round(2).reset_index()\n",
    "print(P5_time)\n",
    "print(P5_price)"
   ]
  },
  {
   "cell_type": "markdown",
   "id": "65900cbe",
   "metadata": {},
   "source": [
    "### MONSTER HUNTER: WORLD"
   ]
  },
  {
   "cell_type": "markdown",
   "id": "9cbaa903",
   "metadata": {},
   "source": [
    "**Summary:**\n",
    "\n",
    "- Expensive Store: IndieGala; \\$59.99\n",
    "- Cheapest Store: Gamesplanet; \\$15.16\n",
    "- Most Expensive Day to buy: January 13,2025; \\$31.08\n",
    "- Cheapest Day to buy: February 2, 2025; \\$13.23"
   ]
  },
  {
   "cell_type": "code",
   "execution_count": 28,
   "id": "4466fa8d",
   "metadata": {},
   "outputs": [
    {
     "name": "stdout",
     "output_type": "stream",
     "text": [
      "          Time  price\n",
      "0   2025-01-13  31.08\n",
      "1   2025-01-15  29.72\n",
      "2   2025-01-16  29.72\n",
      "3   2025-01-17  29.72\n",
      "4   2025-01-18  29.72\n",
      "5   2025-01-19  29.72\n",
      "6   2025-01-14  29.72\n",
      "7   2025-01-21  29.43\n",
      "8   2025-01-23  25.17\n",
      "9   2025-01-25  25.05\n",
      "10  2025-01-24  25.05\n",
      "11  2025-02-10  23.61\n",
      "12  2025-01-27  22.19\n",
      "13  2025-02-05  20.73\n",
      "14  2025-02-04  19.18\n",
      "15  2025-01-28  17.64\n",
      "16  2025-01-29  16.10\n",
      "17  2025-02-02  13.23\n",
      "         storeName  price\n",
      "0        IndieGala  59.99\n",
      "1            2Game  25.53\n",
      "2           Noctre  25.46\n",
      "3     Humble Store  24.41\n",
      "4            Steam  24.41\n",
      "5       GamersGate  22.96\n",
      "6   GreenManGaming  22.64\n",
      "7     WinGameStore  22.27\n",
      "8        Gamesload  22.18\n",
      "9            Voidu  22.18\n",
      "10       Fanatical  18.74\n",
      "11      GameBillet  16.74\n",
      "12     Gamesplanet  15.16\n"
     ]
    }
   ],
   "source": [
    "MHW =library[library['title']=='MONSTER HUNTER: WORLD']\n",
    "\n",
    "MHW_price=MHW.groupby(['storeName'])['price'].mean().sort_values(ascending=False).round(2).reset_index()\n",
    "MHW_time=MHW.groupby(['Time'])['price'].mean().sort_values(ascending=False).round(2).reset_index()\n",
    "print(MHW_time)\n",
    "print(MHW_price)"
   ]
  },
  {
   "cell_type": "markdown",
   "id": "86263868",
   "metadata": {},
   "source": [
    "### Persona 3 Reload"
   ]
  },
  {
   "cell_type": "markdown",
   "id": "31e364f3",
   "metadata": {},
   "source": [
    "**Summary:**\n",
    "\n",
    "- Expensive Store: 2Game; \\$56.38\n",
    "- Cheapest Store: GamesBillet; \\$49.73\n",
    "- Most Expensive Day to buy: January 13,2025; \\$65.93\n",
    "- Cheapest Day to buy: February 2, 2025; \\$32.88"
   ]
  },
  {
   "cell_type": "code",
   "execution_count": 30,
   "id": "e083fc7e",
   "metadata": {},
   "outputs": [
    {
     "name": "stdout",
     "output_type": "stream",
     "text": [
      "          Time  price\n",
      "0   2025-01-13  65.93\n",
      "1   2025-01-14  65.93\n",
      "2   2025-01-15  65.93\n",
      "3   2025-01-16  65.93\n",
      "4   2025-01-17  65.93\n",
      "5   2025-01-18  65.93\n",
      "6   2025-01-19  65.93\n",
      "7   2025-01-21  65.93\n",
      "8   2025-01-23  65.93\n",
      "9   2025-02-10  62.04\n",
      "10  2025-02-05  54.26\n",
      "11  2025-01-24  40.62\n",
      "12  2025-01-25  37.29\n",
      "13  2025-02-04  36.10\n",
      "14  2025-01-27  33.40\n",
      "15  2025-01-28  33.40\n",
      "16  2025-01-29  33.40\n",
      "17  2025-02-02  32.88\n",
      "        storeName  price\n",
      "0           2Game  56.38\n",
      "1  GreenManGaming  55.02\n",
      "2    Humble Store  54.43\n",
      "3           Steam  54.43\n",
      "4         DLGamer  53.19\n",
      "5    WinGameStore  52.66\n",
      "6     Gamesplanet  51.32\n",
      "7       Fanatical  51.21\n",
      "8      GameBillet  49.73\n"
     ]
    }
   ],
   "source": [
    "P3 =library[library['title']=='Persona 3 Reload']\n",
    "\n",
    "P3_price=P3.groupby(['storeName'])['price'].mean().sort_values(ascending=False).round(2).reset_index()\n",
    "P3_time=P3.groupby(['Time'])['price'].mean().sort_values(ascending=False).round(2).reset_index()\n",
    "print(P3_time)\n",
    "print(P3_price)"
   ]
  },
  {
   "cell_type": "markdown",
   "id": "7d985c0f",
   "metadata": {},
   "source": [
    "### Persona 4 Golden"
   ]
  },
  {
   "cell_type": "markdown",
   "id": "d4739066",
   "metadata": {},
   "source": [
    "**Summary:**\n",
    "\n",
    "- Expensive Store: 2Game; \\$16.88\n",
    "- Cheapest Store: GamesBillet; \\$14.72\n",
    "- Most Expensive Day to buy: January 18,2025; \\$18.94\n",
    "- Cheapest Day to buy: February 2, 2025; \\$11.28"
   ]
  },
  {
   "cell_type": "code",
   "execution_count": 31,
   "id": "2bd0dade",
   "metadata": {},
   "outputs": [
    {
     "name": "stdout",
     "output_type": "stream",
     "text": [
      "          Time  price\n",
      "0   2025-01-18  18.94\n",
      "1   2025-01-19  18.94\n",
      "2   2025-01-13  18.92\n",
      "3   2025-01-14  18.92\n",
      "4   2025-01-15  18.92\n",
      "5   2025-01-16  18.92\n",
      "6   2025-01-17  18.92\n",
      "7   2025-01-21  18.12\n",
      "8   2025-01-23  18.12\n",
      "9   2025-02-10  18.05\n",
      "10  2025-02-05  16.27\n",
      "11  2025-01-24  13.07\n",
      "12  2025-01-25  12.35\n",
      "13  2025-02-04  12.09\n",
      "14  2025-01-27  11.46\n",
      "15  2025-01-28  11.46\n",
      "16  2025-01-29  11.28\n",
      "17  2025-02-02  11.28\n",
      "        storeName  price\n",
      "0           2Game  16.88\n",
      "1    Humble Store  16.43\n",
      "2           Steam  16.43\n",
      "3  GreenManGaming  16.41\n",
      "4    WinGameStore  16.08\n",
      "5         DLGamer  15.76\n",
      "6     Gamesplanet  15.46\n",
      "7      GameBillet  14.85\n",
      "8       Fanatical  14.72\n"
     ]
    }
   ],
   "source": [
    "P4 =library[library['title']=='Persona 4 Golden']\n",
    "\n",
    "P4_price=P4.groupby(['storeName'])['price'].mean().sort_values(ascending=False).round(2).reset_index()\n",
    "P4_time=P4.groupby(['Time'])['price'].mean().sort_values(ascending=False).round(2).reset_index()\n",
    "print(P4_time)\n",
    "print(P4_price)"
   ]
  },
  {
   "cell_type": "markdown",
   "id": "ea6816af",
   "metadata": {},
   "source": [
    "### Metaphor: ReFantazio"
   ]
  },
  {
   "cell_type": "markdown",
   "id": "c56f06af",
   "metadata": {},
   "source": [
    "**Summary:**\n",
    "\n",
    "- Expensive Store: Fanatical; \\$60.89\n",
    "- Cheapest Store: GamesBillet; \\$51.81\n",
    "- Most Expensive Day to buy: January 13-16,2025; \\$64.96\n",
    "- Cheapest Day to buy: February 2, 2025; \\$45.32"
   ]
  },
  {
   "cell_type": "code",
   "execution_count": 32,
   "id": "8ed399ef",
   "metadata": {},
   "outputs": [
    {
     "name": "stdout",
     "output_type": "stream",
     "text": [
      "          Time  price\n",
      "0   2025-01-13  64.96\n",
      "1   2025-01-14  64.96\n",
      "2   2025-01-15  64.96\n",
      "3   2025-01-16  64.96\n",
      "4   2025-01-17  64.68\n",
      "5   2025-01-18  64.68\n",
      "6   2025-01-19  64.68\n",
      "7   2025-01-21  63.05\n",
      "8   2025-01-23  62.97\n",
      "9   2025-02-10  61.19\n",
      "10  2025-02-05  56.99\n",
      "11  2025-01-24  53.07\n",
      "12  2025-01-25  48.04\n",
      "13  2025-01-27  48.04\n",
      "14  2025-01-28  48.04\n",
      "15  2025-01-29  48.04\n",
      "16  2025-02-04  47.74\n",
      "17  2025-02-02  45.32\n",
      "        storeName  price\n",
      "0       Fanatical  60.89\n",
      "1    Humble Store  60.66\n",
      "2           Steam  60.66\n",
      "3  GreenManGaming  59.92\n",
      "4    WinGameStore  56.46\n",
      "5         DLGamer  56.46\n",
      "6     Gamesplanet  56.38\n",
      "7           2Game  55.14\n",
      "8       IndieGala  54.19\n",
      "9      GameBillet  51.81\n"
     ]
    }
   ],
   "source": [
    "Metaphor =library[library['title']=='Metaphor: ReFantazio']\n",
    "\n",
    "Metaphor_price=Metaphor.groupby(['storeName'])['price'].mean().sort_values(ascending=False).round(2).reset_index()\n",
    "Metaphor_time=Metaphor.groupby(['Time'])['price'].mean().sort_values(ascending=False).round(2).reset_index()\n",
    "print(Metaphor_time)\n",
    "print(Metaphor_price)"
   ]
  },
  {
   "cell_type": "markdown",
   "id": "9e20b99b",
   "metadata": {},
   "source": [
    "### NieR: Automata"
   ]
  },
  {
   "cell_type": "markdown",
   "id": "c2fbad44",
   "metadata": {},
   "source": [
    "- Store: \\$33.32\n",
    "- Most Expensive Day to buy: January 13-29,2025; \\$39.99\n",
    "- Cheapest Day to buy: February 2, 2025; \\$15.99"
   ]
  },
  {
   "cell_type": "code",
   "execution_count": 35,
   "id": "4273a932",
   "metadata": {},
   "outputs": [
    {
     "name": "stdout",
     "output_type": "stream",
     "text": [
      "          Time  price\n",
      "0   2025-01-13  39.99\n",
      "1   2025-01-21  39.99\n",
      "2   2025-01-27  39.99\n",
      "3   2025-01-25  39.99\n",
      "4   2025-01-14  39.99\n",
      "5   2025-01-23  39.99\n",
      "6   2025-01-24  39.99\n",
      "7   2025-01-19  39.99\n",
      "8   2025-01-18  39.99\n",
      "9   2025-01-17  39.99\n",
      "10  2025-01-16  39.99\n",
      "11  2025-01-15  39.99\n",
      "12  2025-02-10  39.99\n",
      "13  2025-01-28  15.99\n",
      "14  2025-01-29  15.99\n",
      "15  2025-02-02  15.99\n",
      "16  2025-02-04  15.99\n",
      "17  2025-02-05  15.99\n",
      "  storeName  price\n",
      "0     Steam  33.32\n"
     ]
    }
   ],
   "source": [
    "NA =library[library['title']=='NieR: Automata']\n",
    "\n",
    "NA_price=NA.groupby(['storeName'])['price'].mean().sort_values(ascending=False).round(2).reset_index()\n",
    "NA_time=NA.groupby(['Time'])['price'].mean().sort_values(ascending=False).round(2).reset_index()\n",
    "print(NA_time)\n",
    "print(NA_price)"
   ]
  },
  {
   "cell_type": "markdown",
   "id": "540cadb1",
   "metadata": {},
   "source": [
    "### The Elder Scrolls V: Skyrim Special Edition"
   ]
  },
  {
   "cell_type": "markdown",
   "id": "d20415dd",
   "metadata": {},
   "source": [
    "- Store: \\$33.32\n",
    "- Most Expensive Day to buy: January 13-29,2025; \\$39.99\n",
    "- Cheapest Day to buy: February 2, 2025; \\$15.99"
   ]
  },
  {
   "cell_type": "code",
   "execution_count": 37,
   "id": "9bdf192b",
   "metadata": {},
   "outputs": [
    {
     "name": "stdout",
     "output_type": "stream",
     "text": [
      "          Time  price\n",
      "0   2025-01-13  39.99\n",
      "1   2025-01-21  39.99\n",
      "2   2025-01-27  39.99\n",
      "3   2025-01-25  39.99\n",
      "4   2025-01-14  39.99\n",
      "5   2025-01-23  39.99\n",
      "6   2025-01-24  39.99\n",
      "7   2025-01-19  39.99\n",
      "8   2025-01-18  39.99\n",
      "9   2025-01-17  39.99\n",
      "10  2025-01-16  39.99\n",
      "11  2025-01-15  39.99\n",
      "12  2025-02-10  39.99\n",
      "13  2025-01-28  15.99\n",
      "14  2025-01-29  15.99\n",
      "15  2025-02-02  15.99\n",
      "16  2025-02-04  15.99\n",
      "17  2025-02-05  15.99\n",
      "  storeName  price\n",
      "0     Steam  33.32\n"
     ]
    }
   ],
   "source": [
    "S5 =library[library['title']=='The Elder Scrolls V: Skyrim Special Edition']\n",
    "\n",
    "S5_price=NA.groupby(['storeName'])['price'].mean().sort_values(ascending=False).round(2).reset_index()\n",
    "S5_time=NA.groupby(['Time'])['price'].mean().sort_values(ascending=False).round(2).reset_index()\n",
    "print(S5_time)\n",
    "print(S5_price)"
   ]
  }
 ],
 "metadata": {
  "kernelspec": {
   "display_name": "Python 3 (ipykernel)",
   "language": "python",
   "name": "python3"
  },
  "language_info": {
   "codemirror_mode": {
    "name": "ipython",
    "version": 3
   },
   "file_extension": ".py",
   "mimetype": "text/x-python",
   "name": "python",
   "nbconvert_exporter": "python",
   "pygments_lexer": "ipython3",
   "version": "3.10.9"
  }
 },
 "nbformat": 4,
 "nbformat_minor": 5
}
